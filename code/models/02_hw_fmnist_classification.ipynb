{
  "cells": [
    {
      "cell_type": "markdown",
      "metadata": {
        "id": "nDsVMGiVgSq2"
      },
      "source": [
        "Модель для классификации изображений из FashionMNIST датасета. Взята из ДЗ тренировок Яндекса по ML"
      ]
    },
    {
      "cell_type": "code",
      "execution_count": 2,
      "metadata": {
        "id": "3isBRG6PgSq6"
      },
      "outputs": [],
      "source": [
        "import json\n",
        "import os\n",
        "\n",
        "import numpy as np\n",
        "import torch\n",
        "import torchvision\n",
        "from IPython.display import clear_output\n",
        "from matplotlib import pyplot as plt\n",
        "from torch import nn\n",
        "from torch.nn import functional as F\n",
        "from torchvision.datasets import FashionMNIST"
      ]
    },
    {
      "cell_type": "code",
      "execution_count": 6,
      "metadata": {
        "id": "EsQ3D5jXAArO"
      },
      "outputs": [],
      "source": [
        "def get_predictions(model, eval_data, step=10):\n",
        "\n",
        "    predicted_labels = []\n",
        "    model.eval()\n",
        "    with torch.no_grad():\n",
        "        for idx in range(0, len(eval_data), step):\n",
        "            y_predicted = model(eval_data[idx : idx + step].to(device))\n",
        "            predicted_labels.append(y_predicted.argmax(dim=1).cpu())\n",
        "\n",
        "    predicted_labels = torch.cat(predicted_labels)\n",
        "    predicted_labels = \",\".join([str(x.item()) for x in list(predicted_labels)])\n",
        "    return predicted_labels\n",
        "\n",
        "\n",
        "def get_accuracy(model, data_loader):\n",
        "    predicted_labels = []\n",
        "    real_labels = []\n",
        "    model.eval()\n",
        "    with torch.no_grad():\n",
        "        for batch in data_loader:\n",
        "            y_predicted = model(batch[0].to(device))\n",
        "            predicted_labels.append(y_predicted.argmax(dim=1).cpu())\n",
        "            real_labels.append(batch[1])\n",
        "\n",
        "    predicted_labels = torch.cat(predicted_labels)\n",
        "    real_labels = torch.cat(real_labels)\n",
        "    accuracy_score = (predicted_labels == real_labels).type(torch.FloatTensor).mean()\n",
        "    return accuracy_score"
      ]
    },
    {
      "cell_type": "code",
      "execution_count": 7,
      "metadata": {
        "id": "MzTFPg6EAArQ"
      },
      "outputs": [],
      "source": [
        "CUDA_DEVICE_ID = 0  # change if needed"
      ]
    },
    {
      "cell_type": "code",
      "execution_count": 8,
      "metadata": {
        "colab": {
          "base_uri": "https://localhost:8080/"
        },
        "id": "nPG1KbQAgl8b",
        "outputId": "c1d09083-9b33-4428-99a8-694e3a6bc5f7"
      },
      "outputs": [
        {
          "name": "stdout",
          "output_type": "stream",
          "text": [
            "cpu\n"
          ]
        }
      ],
      "source": [
        "device = (\n",
        "    torch.device(f\"cuda:{CUDA_DEVICE_ID}\") if torch.cuda.is_available() else torch.device(\"cpu\")\n",
        ")\n",
        "print(device)"
      ]
    },
    {
      "cell_type": "code",
      "execution_count": 9,
      "metadata": {
        "colab": {
          "base_uri": "https://localhost:8080/",
          "height": 543
        },
        "id": "aYcL28OsgSq8",
        "outputId": "bd278663-d3b2-46f1-a0f4-ddd40e80ca20"
      },
      "outputs": [
        {
          "data": {
            "text/plain": [
              "Text(0.5, 1.0, 'Image label: 5')"
            ]
          },
          "execution_count": 9,
          "metadata": {},
          "output_type": "execute_result"
        },
        {
          "data": {
            "image/png": "[encoded data removed]",
            "text/plain": [
              "<Figure size 640x480 with 1 Axes>"
            ]
          },
          "metadata": {},
          "output_type": "display_data"
        }
      ],
      "source": [
        "# Download images\n",
        "train_fmnist_data = FashionMNIST(\n",
        "    \"../datasets\", train=True, transform=torchvision.transforms.ToTensor(), download=True\n",
        ")\n",
        "test_fmnist_data = FashionMNIST(\n",
        "    \"../datasets\", train=False, transform=torchvision.transforms.ToTensor(), download=True\n",
        ")\n",
        "\n",
        "train_data_loader = torch.utils.data.DataLoader(\n",
        "    train_fmnist_data, batch_size=32, shuffle=True, num_workers=2\n",
        ")\n",
        "\n",
        "test_data_loader = torch.utils.data.DataLoader(\n",
        "    test_fmnist_data, batch_size=32, shuffle=False, num_workers=2\n",
        ")\n",
        "\n",
        "random_batch = next(iter(train_data_loader))\n",
        "_image, _label = random_batch[0][0], random_batch[1][0]\n",
        "plt.figure()\n",
        "plt.imshow(_image.reshape(28, 28))\n",
        "plt.title(f\"Image label: {_label}\")"
      ]
    },
    {
      "cell_type": "code",
      "execution_count": 10,
      "metadata": {
        "id": "BcyEFX-RgSq8"
      },
      "outputs": [],
      "source": [
        "# Creating model instance\n",
        "class CNN(nn.Module):\n",
        "    def __init__(self):\n",
        "        super(CNN, self).__init__()\n",
        "        # (8, 20, 20)\n",
        "        self.conv1 = nn.Sequential(\n",
        "            nn.Conv2d(1, 10, 5),\n",
        "            nn.MaxPool2d(5, 1),\n",
        "            nn.LeakyReLU()\n",
        "        )\n",
        "        # (16, 8, 8)\n",
        "        self.conv2 = nn.Sequential(\n",
        "            nn.Conv2d(10, 16, 3),\n",
        "            nn.AvgPool2d(3, 2),\n",
        "            nn.LeakyReLU(),\n",
        "            nn.BatchNorm2d(16)\n",
        "        )\n",
        "        self.flatten = nn.Flatten()\n",
        "        self.fc = nn.Linear(1024, 64)\n",
        "\n",
        "        self.fc2 = nn.Linear(64, 10)\n",
        "\n",
        "    def forward(self, x):\n",
        "        x = self.conv1(x)\n",
        "        # print(x.shape)\n",
        "        x = self.conv2(x)\n",
        "        # print(x.shape)\n",
        "        x = self.flatten(x)\n",
        "        # print(x.shape)\n",
        "        x = self.fc(x)\n",
        "        x = F.sigmoid(x)\n",
        "        # print(x.shape)\n",
        "        x = self.fc2(x)\n",
        "        return x\n",
        "\n",
        "model_task_1 = CNN()"
      ]
    },
    {
      "cell_type": "code",
      "execution_count": 11,
      "metadata": {
        "colab": {
          "base_uri": "https://localhost:8080/"
        },
        "id": "Xas9SIXDoxvZ",
        "outputId": "d26891e8-9617-44b3-d483-dfacdd997767"
      },
      "outputs": [
        {
          "data": {
            "text/plain": [
              "CNN(\n",
              "  (conv1): Sequential(\n",
              "    (0): Conv2d(1, 10, kernel_size=(5, 5), stride=(1, 1))\n",
              "    (1): MaxPool2d(kernel_size=5, stride=1, padding=0, dilation=1, ceil_mode=False)\n",
              "    (2): LeakyReLU(negative_slope=0.01)\n",
              "  )\n",
              "  (conv2): Sequential(\n",
              "    (0): Conv2d(10, 16, kernel_size=(3, 3), stride=(1, 1))\n",
              "    (1): AvgPool2d(kernel_size=3, stride=2, padding=0)\n",
              "    (2): LeakyReLU(negative_slope=0.01)\n",
              "    (3): BatchNorm2d(16, eps=1e-05, momentum=0.1, affine=True, track_running_stats=True)\n",
              "  )\n",
              "  (flatten): Flatten(start_dim=1, end_dim=-1)\n",
              "  (fc): Linear(in_features=1024, out_features=64, bias=True)\n",
              "  (fc2): Linear(in_features=64, out_features=10, bias=True)\n",
              ")"
            ]
          },
          "execution_count": 11,
          "metadata": {},
          "output_type": "execute_result"
        }
      ],
      "source": [
        "model_task_1.to(device)"
      ]
    },
    {
      "cell_type": "markdown",
      "metadata": {
        "id": "suRmIPwIgSq9"
      },
      "source": [
        "Настройте параметры модели на обучающей выборке. Также рекомендуем поработать с `learning rate`."
      ]
    },
    {
      "cell_type": "code",
      "execution_count": 12,
      "metadata": {
        "colab": {
          "base_uri": "https://localhost:8080/"
        },
        "id": "YJnU14bdnZa_",
        "outputId": "29a772f1-f445-4dad-d86e-692804a20233"
      },
      "outputs": [
        {
          "name": "stdout",
          "output_type": "stream",
          "text": [
            "Loss/train 27.777416117955 0\n",
            "Loss/train 21.818377860588953 1\n",
            "Loss/train 19.98055625637062 2\n",
            "Loss/train 18.961935734492727 3\n",
            "Loss/train 18.129497299785726 4\n",
            "Loss/train 17.251243981649168 5\n",
            "Loss/train 16.693371231434867 6\n",
            "Loss/train 15.99462932208553 7\n"
          ]
        }
      ],
      "source": [
        "# your code here\n",
        "def train(\n",
        "    model,\n",
        "    optimizer: torch.optim.Adam,\n",
        "    loss_fn,\n",
        "    epochs,\n",
        "    device\n",
        "):\n",
        "    # iterating over epochs\n",
        "    for epoch in range(epochs):\n",
        "        # training loop description\n",
        "        model.train()\n",
        "        train_loss = 0.0\n",
        "        # iterate over dataset\n",
        "        for data in train_data_loader:\n",
        "            # Write your code here\n",
        "            # Move data to a device, do forward pass and loss calculation, do backward pass and run optimizer\n",
        "            inputs, labels = data\n",
        "            inputs = inputs.to(device)\n",
        "            labels = labels.to(device)\n",
        "            # print(labels)\n",
        "\n",
        "            optimizer.zero_grad()\n",
        "            outputs = model(inputs)\n",
        "            loss = loss_fn(outputs, labels)\n",
        "            loss.backward()\n",
        "            optimizer.step()\n",
        "\n",
        "            train_loss += loss.item()\n",
        "\n",
        "        print(\"Loss/train\", train_loss / 32, epoch)\n",
        "\n",
        "\n",
        "train(model=model_task_1,\n",
        "      optimizer=torch.optim.Adam(model_task_1.parameters(), lr=0.003, weight_decay=5e-5),\n",
        "      loss_fn=nn.CrossEntropyLoss(),\n",
        "      epochs=8,\n",
        "      device=device)\n"
      ]
    },
    {
      "cell_type": "markdown",
      "metadata": {
        "id": "usswrWYOgSq-"
      },
      "source": [
        "Оценим качество классификации:"
      ]
    },
    {
      "cell_type": "code",
      "execution_count": 13,
      "metadata": {
        "colab": {
          "base_uri": "https://localhost:8080/"
        },
        "id": "Xua3TVZHgSq-",
        "outputId": "5625875a-d13f-49b0-c32d-109d5a12d76a"
      },
      "outputs": [
        {
          "name": "stdout",
          "output_type": "stream",
          "text": [
            "Neural network accuracy on train set: 0.89772\n"
          ]
        }
      ],
      "source": [
        "train_acc_task_1 = get_accuracy(model_task_1, train_data_loader)\n",
        "print(f\"Neural network accuracy on train set: {train_acc_task_1:3.5}\")"
      ]
    },
    {
      "cell_type": "code",
      "execution_count": 14,
      "metadata": {
        "colab": {
          "base_uri": "https://localhost:8080/"
        },
        "id": "l9KEKXBxgSq-",
        "outputId": "69618b5f-8891-4f74-e76a-3312581416d8"
      },
      "outputs": [
        {
          "name": "stdout",
          "output_type": "stream",
          "text": [
            "Neural network accuracy on test set: 0.8759\n"
          ]
        }
      ],
      "source": [
        "test_acc_task_1 = get_accuracy(model_task_1, test_data_loader)\n",
        "print(f\"Neural network accuracy on test set: {test_acc_task_1:3.5}\")"
      ]
    },
    {
      "cell_type": "code",
      "execution_count": 16,
      "metadata": {},
      "outputs": [],
      "source": [
        "# Save the model\n",
        "torch.save(model_task_1.state_dict(), \"../../models/model.pt\")"
      ]
    },
    {
      "cell_type": "code",
      "execution_count": null,
      "metadata": {},
      "outputs": [
        {
          "name": "stdout",
          "output_type": "stream",
          "text": [
            "{0, 1, 2, 4, 5, 6, 7, 8, 9}\n"
          ]
        }
      ],
      "source": [
        "# Save images for testing\n",
        "unique_labels = set()\n",
        "for i in range(32):\n",
        "    _image, _label = random_batch[0][i], random_batch[1][i]\n",
        "    if _label.item() in unique_labels: continue\n",
        "    unique_labels.add(_label.item())\n",
        "\n",
        "    plt.imsave(f'..\\\\..\\\\data\\\\class_{_label.item()}.png', _image.reshape(28,28), cmap='gray', format='png')\n",
        "\n",
        "print(unique_labels)"
      ]
    },
    {
      "cell_type": "code",
      "execution_count": 41,
      "metadata": {},
      "outputs": [
        {
          "name": "stdout",
          "output_type": "stream",
          "text": [
            "tensor([[ -2.6741,  -3.6024,   3.2878,  -4.2466,   3.8075,  -8.4456,   2.5746,\n",
            "         -13.3565,  -2.6713, -11.0981]], grad_fn=<AddmmBackward0>)\n",
            "4\n"
          ]
        }
      ],
      "source": [
        "model_task_1.eval()\n",
        "outputs = model_task_1(random_batch[0][0].unsqueeze(0).to(device))\n",
        "res = torch.argmax(outputs, dim=1).cpu()\n",
        "print(outputs)\n",
        "print(res.numpy()[0])\n"
      ]
    }
  ],
  "metadata": {
    "accelerator": "GPU",
    "colab": {
      "gpuType": "T4",
      "provenance": []
    },
    "kernelspec": {
      "display_name": "Python 3",
      "language": "python",
      "name": "python3"
    },
    "language_info": {
      "codemirror_mode": {
        "name": "ipython",
        "version": 3
      },
      "file_extension": ".py",
      "mimetype": "text/x-python",
      "name": "python",
      "nbconvert_exporter": "python",
      "pygments_lexer": "ipython3",
      "version": "3.12.10"
    },
    "toc": {
      "base_numbering": 1,
      "nav_menu": {},
      "number_sections": true,
      "sideBar": true,
      "skip_h1_title": false,
      "title_cell": "Table of Contents",
      "title_sidebar": "Contents",
      "toc_cell": false,
      "toc_position": {},
      "toc_section_display": true,
      "toc_window_display": false
    }
  },
  "nbformat": 4,
  "nbformat_minor": 0
}
